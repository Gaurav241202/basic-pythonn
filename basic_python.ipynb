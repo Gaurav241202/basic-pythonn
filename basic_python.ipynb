{
  "nbformat": 4,
  "nbformat_minor": 0,
  "metadata": {
    "colab": {
      "provenance": []
    },
    "kernelspec": {
      "name": "python3",
      "display_name": "Python 3"
    },
    "language_info": {
      "name": "python"
    }
  },
  "cells": [
    {
      "cell_type": "markdown",
      "source": [
        "Python Basics"
      ],
      "metadata": {
        "id": "g7NH-lN46kE-"
      }
    },
    {
      "cell_type": "markdown",
      "source": [
        "theory questions\n",
        "\n",
        "Q1. **what is python, and why it is popular**\n",
        "--> python is a programming language and it is easy to read and write and it is\n",
        "first choice of programmers and developers.\n",
        "it is popular because it is easy to learn and user friendly"
      ],
      "metadata": {
        "id": "2qinpfAN6vzL"
      }
    },
    {
      "cell_type": "markdown",
      "source": [
        "Q2. **what is an interpreter in python ?**\n",
        "--> it is an python program that reads and executes code line by line. at that time it shows the results immediatly."
      ],
      "metadata": {
        "id": "1yKlrQNG8WIQ"
      }
    },
    {
      "cell_type": "markdown",
      "source": [
        "Q3.**what are pre-defined keywords in python ?**\n",
        "--> pre-defined keywords such as\n",
        "1. if               \n",
        "2. else             \n",
        "3. elif             \n",
        "4. false            \n",
        "5. true\n",
        "6. none\n",
        "7. and\n",
        "8. break\n",
        "9. continue\n",
        "10. import etc"
      ],
      "metadata": {
        "id": "lM1MIN_l9oQL"
      }
    },
    {
      "cell_type": "markdown",
      "source": [
        "Q4. **Can keywords be used as variable names ?**\n",
        "--> No . because keyword defines the syntax and statement"
      ],
      "metadata": {
        "id": "OzR89RQb_kGP"
      }
    },
    {
      "cell_type": "markdown",
      "source": [
        "Q5. **What is mutability in Python ?**\n",
        "--> it is the function of list in which the it can be modified and which is more efficient"
      ],
      "metadata": {
        "id": "stWV3jA2AqOI"
      }
    },
    {
      "cell_type": "markdown",
      "source": [
        "Q6. **Why are lists mutable, but tuples are immutable ?**\n",
        "--> lists are mutable because it can be modified and tuples are immutable because it can not be modified tuples can be chaanged\n"
      ],
      "metadata": {
        "id": "UHt87pCCCGck"
      }
    },
    {
      "cell_type": "markdown",
      "source": [
        "Q7. **What is the difference between “==” and “is” operators in Python ?**\n",
        "--> \"==\" is used for comprarission between two integers or variables , it prints true if it is same and it will print false if it will not the same\n",
        "\n",
        "\"is\" it is a identity operator , which compares memory address of two objects and\n",
        "checks if two variables refer to the same object in memory."
      ],
      "metadata": {
        "id": "T0S3u1CpCyTW"
      }
    },
    {
      "cell_type": "markdown",
      "source": [
        "Q8. **What are logical operators in Python ?**\n",
        "-->  Logical operators in Python are used to combine multiple conditional statements and determine the overall truth value of an expression. which are 'AND' , 'OR' , 'NOT'\n",
        "**'AND'**= prints True if both conditions are True and prints False if either condition is False\n",
        "**'OR'**= prints True if at least one of the conditions is True.and prints False only if both conditions are False\n"
      ],
      "metadata": {
        "id": "ksuHiJ6MMXjN"
      }
    },
    {
      "cell_type": "markdown",
      "source": [
        "Q9. **What is type casting in Python ?**\n",
        "--> it is the process of changing the data type of a variable or value to another data type.\n",
        "  type casting consist of int,float,string which convers the values to integer (int),float,and string"
      ],
      "metadata": {
        "id": "zLHuxUnnN9w_"
      }
    },
    {
      "cell_type": "markdown",
      "source": [
        "Q10. **What is the difference between implicit and explicit type casting ?**\n",
        "--> Implicit Type Casting: Done automatically by Python when mixing compatible types.\n",
        "Explicit Type Casting: Done manually using functions like int, float, str"
      ],
      "metadata": {
        "id": "HNojEKoKO3zW"
      }
    },
    {
      "cell_type": "markdown",
      "source": [
        "Q11. **What is the purpose of conditional statements in Python ?**\n",
        "--> Conditionals in Python are used to execute code based on the evaluation of one or more conditions. conditional statements such as if, elif (else if), and else to control the flow of execution.Conditionals can be nested to handle multiple conditions and control different branches of execution based on the outcome of logical expressions"
      ],
      "metadata": {
        "id": "VKOnStoOPWB2"
      }
    },
    {
      "cell_type": "markdown",
      "source": [
        "Q12.** How does the elif statement work ?**\n",
        "-->  for multiple conditons of if-else elif statement is used\n",
        " for example there is scores of student,"
      ],
      "metadata": {
        "id": "-qkvbEuLQCuX"
      }
    },
    {
      "cell_type": "code",
      "execution_count": 6,
      "metadata": {
        "id": "RIWPBzOV6eif",
        "colab": {
          "base_uri": "https://localhost:8080/"
        },
        "outputId": "cb6259ff-5668-4c1b-aea7-4e83fb6a2206"
      },
      "outputs": [
        {
          "output_type": "stream",
          "name": "stdout",
          "text": [
            "grade C\n"
          ]
        }
      ],
      "source": [
        "#scores of student\n",
        "score = 75\n",
        "if score >=90:\n",
        "  print(\"grade A\")\n",
        "elif (80<=score<90):\n",
        "  print(\"grade B\")\n",
        "elif (70<=score<80):\n",
        "  print(\"grade C\")\n",
        "elif (60<=score<70):\n",
        "  print(\"grade D\")\n",
        "else:\n",
        "  print(\"grade F\")\n"
      ]
    },
    {
      "cell_type": "markdown",
      "source": [
        "in this example here are multiple conditions so we use elif."
      ],
      "metadata": {
        "id": "uLkAlh-gTZNr"
      }
    },
    {
      "cell_type": "markdown",
      "source": [
        "Q13. **What is the difference between for and while loops ?**\n",
        "--> “for” loops are used for iterating over a sequence of elements,and while “while” loops are used for executing code until a specified condition becomes False"
      ],
      "metadata": {
        "id": "hxWqEmyMTnSo"
      }
    },
    {
      "cell_type": "markdown",
      "source": [
        "Q14.**Describe a scenario where a while loop is more suitable than a for loop ?**\n",
        "--> You're creating a program that asks the user for their age. The program should only accept positive integer values. If the user enters an invalid input (e.g., negative number, non-numeric character), the program should keep prompting them until they enter a valid age.We don't know how many times the user will enter invalid input before providing a valid age. A while loop is ideal for this because it continues to execute as long as a certain condition (invalid input) is true"
      ],
      "metadata": {
        "id": "DWE-y6hyUD3K"
      }
    },
    {
      "cell_type": "markdown",
      "source": [
        "**Practical Questions**"
      ],
      "metadata": {
        "id": "O9kmpsbDU3Oe"
      }
    },
    {
      "cell_type": "markdown",
      "source": [
        "1. **Write a Python program to print \"Hello, World! ?**\n"
      ],
      "metadata": {
        "id": "V3BdOdAJVVM1"
      }
    },
    {
      "cell_type": "code",
      "source": [
        "print(\"Hello, World!\")"
      ],
      "metadata": {
        "colab": {
          "base_uri": "https://localhost:8080/"
        },
        "id": "3aapwRd-VhD6",
        "outputId": "d3b20cf5-35e9-4542-999c-c3c4a6378ba9"
      },
      "execution_count": 7,
      "outputs": [
        {
          "output_type": "stream",
          "name": "stdout",
          "text": [
            "Hello, World!\n"
          ]
        }
      ]
    },
    {
      "cell_type": "markdown",
      "source": [
        "2. **Write a Python program that displays your name and age**\n"
      ],
      "metadata": {
        "id": "rn6YC1fWWxh3"
      }
    },
    {
      "cell_type": "code",
      "source": [
        "name = \"Your Name\"\n",
        "age = 22\n",
        "\n",
        "print(\"My name is\", name, \"and I am\", age, \"years old.\")"
      ],
      "metadata": {
        "colab": {
          "base_uri": "https://localhost:8080/"
        },
        "id": "ZegkCwmWW8Jx",
        "outputId": "b793219c-ba78-4cdb-91a0-ee6055771d32"
      },
      "execution_count": 8,
      "outputs": [
        {
          "output_type": "stream",
          "name": "stdout",
          "text": [
            "My name is Your Name and I am 22 years old.\n"
          ]
        }
      ]
    },
    {
      "cell_type": "markdown",
      "source": [
        "3. **Write code to print all the pre-defined keywords in Python using the keyword library**"
      ],
      "metadata": {
        "id": "S5P0AJDeXK3X"
      }
    },
    {
      "cell_type": "code",
      "source": [
        "import keyword\n",
        "\n",
        "print(\"List of Python keywords:\")\n",
        "for word in keyword.kwlist:\n",
        "    print(word)"
      ],
      "metadata": {
        "colab": {
          "base_uri": "https://localhost:8080/"
        },
        "id": "MnEwA5LMXSZY",
        "outputId": "642d08da-400d-4693-ba06-d0e93a83d9e9"
      },
      "execution_count": 11,
      "outputs": [
        {
          "output_type": "stream",
          "name": "stdout",
          "text": [
            "List of Python keywords:\n",
            "False\n",
            "None\n",
            "True\n",
            "and\n",
            "as\n",
            "assert\n",
            "async\n",
            "await\n",
            "break\n",
            "class\n",
            "continue\n",
            "def\n",
            "del\n",
            "elif\n",
            "else\n",
            "except\n",
            "finally\n",
            "for\n",
            "from\n",
            "global\n",
            "if\n",
            "import\n",
            "in\n",
            "is\n",
            "lambda\n",
            "nonlocal\n",
            "not\n",
            "or\n",
            "pass\n",
            "raise\n",
            "return\n",
            "try\n",
            "while\n",
            "with\n",
            "yield\n"
          ]
        }
      ]
    },
    {
      "cell_type": "markdown",
      "source": [
        "4. **Write a program that checks if a given word is a Python keyword**"
      ],
      "metadata": {
        "id": "Ttr3WaugX1xj"
      }
    },
    {
      "cell_type": "code",
      "source": [
        "word = input(\"Enter a word: \")\n",
        "\n",
        "# List of Python keywords\n",
        "keywords = ['False', 'None', 'True', 'and', 'as', 'assert', 'async', 'await',\n",
        "              'break', 'class', 'continue', 'def', 'del', 'elif', 'else', 'except',\n",
        "              'finally', 'for', 'from', 'global', 'if', 'import', 'in', 'is',\n",
        "              'lambda', 'nonlocal', 'not', 'or', 'pass', 'raise', 'return',\n",
        "              'try', 'while', 'with', 'yield']\n",
        "\n",
        "# Check if the word is in the list of keywords\n",
        "if word in keywords:\n",
        "  print(f\"'{word}' is a Python keyword.\")\n",
        "else:\n",
        "  print(f\"'{word}' is not a Python keyword.\")"
      ],
      "metadata": {
        "colab": {
          "base_uri": "https://localhost:8080/"
        },
        "id": "TEP5mzGmX8nT",
        "outputId": "765a0058-4859-4ed0-935c-b037d72e4429"
      },
      "execution_count": 13,
      "outputs": [
        {
          "output_type": "stream",
          "name": "stdout",
          "text": [
            "Enter a word: for\n",
            "'for' is a Python keyword.\n"
          ]
        }
      ]
    },
    {
      "cell_type": "code",
      "source": [
        "word = input(\"Enter a word: \")\n",
        "\n",
        "# List of Python keywords\n",
        "keywords = ['False', 'None', 'True', 'and', 'as', 'assert', 'async', 'await',\n",
        "              'break', 'class', 'continue', 'def', 'del', 'elif', 'else', 'except',\n",
        "              'finally', 'for', 'from', 'global', 'if', 'import', 'in', 'is',\n",
        "              'lambda', 'nonlocal', 'not', 'or', 'pass', 'raise', 'return',\n",
        "              'try', 'while', 'with', 'yield']\n",
        "\n",
        "# Check if the word is in the list of keywords\n",
        "if word in keywords:\n",
        "  print(f\"'{word}' is a Python keyword.\")\n",
        "else:\n",
        "  print(f\"'{word}' is not a Python keyword.\")"
      ],
      "metadata": {
        "colab": {
          "base_uri": "https://localhost:8080/"
        },
        "id": "fqk939TbZHx-",
        "outputId": "a5ba1885-b775-470b-affb-d058037b0ff2"
      },
      "execution_count": 14,
      "outputs": [
        {
          "output_type": "stream",
          "name": "stdout",
          "text": [
            "Enter a word: int\n",
            "'int' is not a Python keyword.\n"
          ]
        }
      ]
    },
    {
      "cell_type": "markdown",
      "source": [
        "5. Create a list and tuple in Python, and demonstrate how attempting to change an element works differently\n",
        "for each."
      ],
      "metadata": {
        "id": "U8RoQ2SbZST2"
      }
    },
    {
      "cell_type": "code",
      "source": [
        "my_list = [1, 2, 3, \"apple\"]\n",
        "my_list[0] = 10\n",
        "print(\"Modified list:\", my_list)\n",
        "\n",
        "# Create a tuple\n",
        "my_tuple = (1, 2, 3, \"apple\")\n",
        "\n",
        "for i in range(len(my_tuple)):\n",
        "    try:\n",
        "        my_tuple[i] = i * 2\n",
        "    except TypeError:\n",
        "        print(\"Tuples are immutable. Cannot change elements.\")\n",
        "        break\n",
        "\n",
        "print(\"Modified tuple:\", my_tuple)"
      ],
      "metadata": {
        "colab": {
          "base_uri": "https://localhost:8080/"
        },
        "id": "bj6N0UQbZiDG",
        "outputId": "82eb860e-2cf1-4e0a-93fb-2a6fec755868"
      },
      "execution_count": 39,
      "outputs": [
        {
          "output_type": "stream",
          "name": "stdout",
          "text": [
            "Modified list: [10, 2, 3, 'apple']\n",
            "Tuples are immutable. Cannot change elements.\n",
            "Modified tuple: (1, 2, 3, 'apple')\n"
          ]
        }
      ]
    },
    {
      "cell_type": "markdown",
      "source": [
        "8. ** Write a program to demonstrate the use of logical operators**"
      ],
      "metadata": {
        "id": "58RQDgEPansR"
      }
    },
    {
      "cell_type": "code",
      "source": [
        "# Going to a movie\n",
        "age = 17\n",
        "has_ticket = True\n",
        "\n",
        "if age >= 18 and has_ticket:\n",
        "    print(\"You can watch the movie!\")\n",
        "else:\n",
        "    print(\"You can't watch the movie.\")\n",
        "\n",
        "# Going to an amusement park\n",
        "age = 8\n",
        "has_parent = True\n",
        "\n",
        "if age >= 10 or has_parent:\n",
        "    print(\"You can go to the amusement park!\")\n",
        "else:\n",
        "    print(\"You can't go to the amusement park.\")"
      ],
      "metadata": {
        "colab": {
          "base_uri": "https://localhost:8080/"
        },
        "id": "0Ek0NKnOaugB",
        "outputId": "4e913b7c-4e28-45d5-e79f-6ea7cd73c00e"
      },
      "execution_count": 15,
      "outputs": [
        {
          "output_type": "stream",
          "name": "stdout",
          "text": [
            "You can't watch the movie.\n",
            "You can go to the amusement park!\n"
          ]
        }
      ]
    },
    {
      "cell_type": "markdown",
      "source": [
        "9. **Write a Python program to convert user input from string to integer, float, and boolean types**"
      ],
      "metadata": {
        "id": "Wows_xuabCZY"
      }
    },
    {
      "cell_type": "code",
      "source": [
        "#string to integer\n",
        "my_string = \"123\"\n",
        "my_integer = int(my_string)\n",
        "print(my_integer)"
      ],
      "metadata": {
        "colab": {
          "base_uri": "https://localhost:8080/"
        },
        "id": "BOu4ryztb2-1",
        "outputId": "3ce03e20-cd2c-4b4c-ec77-926548e898ee"
      },
      "execution_count": 28,
      "outputs": [
        {
          "output_type": "stream",
          "name": "stdout",
          "text": [
            "123\n"
          ]
        }
      ]
    },
    {
      "cell_type": "code",
      "source": [
        "type(my_integer)"
      ],
      "metadata": {
        "colab": {
          "base_uri": "https://localhost:8080/"
        },
        "id": "sBZJ3nuRd2Mx",
        "outputId": "b0ce0190-02f7-4f71-ecdc-acaa3e9e5b6e"
      },
      "execution_count": 29,
      "outputs": [
        {
          "output_type": "execute_result",
          "data": {
            "text/plain": [
              "int"
            ]
          },
          "metadata": {},
          "execution_count": 29
        }
      ]
    },
    {
      "cell_type": "code",
      "source": [
        "#string to float\n",
        "my_string = \"3.14\"\n",
        "my_float = float(my_string)\n",
        "print(my_float)\n",
        "type(my_float)"
      ],
      "metadata": {
        "colab": {
          "base_uri": "https://localhost:8080/"
        },
        "id": "WZuo6b-Md9mr",
        "outputId": "918ab375-a5a1-471d-c662-f5be31863378"
      },
      "execution_count": 30,
      "outputs": [
        {
          "output_type": "stream",
          "name": "stdout",
          "text": [
            "3.14\n"
          ]
        },
        {
          "output_type": "execute_result",
          "data": {
            "text/plain": [
              "float"
            ]
          },
          "metadata": {},
          "execution_count": 30
        }
      ]
    },
    {
      "cell_type": "code",
      "source": [
        "#string to boolean\n",
        "my_string = \"True\"\n",
        "my_boolean = bool(my_string)\n",
        "print(my_boolean)\n",
        "type(my_boolean)"
      ],
      "metadata": {
        "colab": {
          "base_uri": "https://localhost:8080/"
        },
        "id": "7FZ71UakeRal",
        "outputId": "0203e50a-8ae7-40ee-c284-3c3c0971e24f"
      },
      "execution_count": 31,
      "outputs": [
        {
          "output_type": "stream",
          "name": "stdout",
          "text": [
            "True\n"
          ]
        },
        {
          "output_type": "execute_result",
          "data": {
            "text/plain": [
              "bool"
            ]
          },
          "metadata": {},
          "execution_count": 31
        }
      ]
    },
    {
      "cell_type": "markdown",
      "source": [
        "10. **Write code to demonstrate type casting with list elements**"
      ],
      "metadata": {
        "id": "1_pRHjjKeZ_K"
      }
    },
    {
      "cell_type": "code",
      "source": [
        "string_list = [\"1\", \"2\", \"3\"]\n",
        "int_list = [int(x) for x in string_list]  # Convert strings to integers\n",
        "float_list = [float(x) for x in int_list]  # Convert integers to floats\n",
        "string_again = [str(x) for x in float_list]  # Convert floats back to strings\n",
        "print(\"Original:\", string_list, \"| Int:\", int_list, \"| Float:\", float_list, \"| String:\", string_again)\n"
      ],
      "metadata": {
        "colab": {
          "base_uri": "https://localhost:8080/"
        },
        "id": "BMgf0AdRekFT",
        "outputId": "cb93127c-2157-4e01-a73d-fe8db869d669"
      },
      "execution_count": 40,
      "outputs": [
        {
          "output_type": "stream",
          "name": "stdout",
          "text": [
            "Original: ['1', '2', '3'] | Int: [1, 2, 3] | Float: [1.0, 2.0, 3.0] | String: ['1.0', '2.0', '3.0']\n"
          ]
        }
      ]
    },
    {
      "cell_type": "markdown",
      "source": [
        "11. **Write a program that checks if a number is positive, negative, or zero**"
      ],
      "metadata": {
        "id": "OPt-B8eSe7_r"
      }
    },
    {
      "cell_type": "code",
      "source": [
        "number = float(input(\"Enter a number: \"))\n",
        "\n",
        "if number > 0:\n",
        "  print(\"The number is positive.\")\n",
        "elif number < 0:\n",
        "  print(\"The number is negative.\")\n",
        "else:\n",
        "  print(\"The number is zero.\")"
      ],
      "metadata": {
        "colab": {
          "base_uri": "https://localhost:8080/"
        },
        "id": "ehO0Ks5we_Gn",
        "outputId": "8c3152e6-d712-4803-d91f-07129d214297"
      },
      "execution_count": 32,
      "outputs": [
        {
          "output_type": "stream",
          "name": "stdout",
          "text": [
            "Enter a number: 2.5\n",
            "The number is positive.\n"
          ]
        }
      ]
    },
    {
      "cell_type": "code",
      "source": [
        "number = float(input(\"Enter a number: \"))\n",
        "\n",
        "if number > 0:\n",
        "  print(\"The number is positive.\")\n",
        "elif number < 0:\n",
        "  print(\"The number is negative.\")\n",
        "else:\n",
        "  print(\"The number is zero.\")"
      ],
      "metadata": {
        "colab": {
          "base_uri": "https://localhost:8080/"
        },
        "id": "ybd17TcNfg8o",
        "outputId": "572137fe-19cf-418d-c5e9-dd17dd4ba094"
      },
      "execution_count": 33,
      "outputs": [
        {
          "output_type": "stream",
          "name": "stdout",
          "text": [
            "Enter a number: -26\n",
            "The number is negative.\n"
          ]
        }
      ]
    },
    {
      "cell_type": "code",
      "source": [
        "number = float(input(\"Enter a number: \"))\n",
        "\n",
        "if number > 0:\n",
        "  print(\"The number is positive.\")\n",
        "elif number < 0:\n",
        "  print(\"The number is negative.\")\n",
        "else:\n",
        "  print(\"The number is zero.\")"
      ],
      "metadata": {
        "colab": {
          "base_uri": "https://localhost:8080/"
        },
        "id": "q4i75L_Zfm-z",
        "outputId": "9239d028-dcb0-44de-9665-8964f6077dea"
      },
      "execution_count": 34,
      "outputs": [
        {
          "output_type": "stream",
          "name": "stdout",
          "text": [
            "Enter a number: 0\n",
            "The number is zero.\n"
          ]
        }
      ]
    },
    {
      "cell_type": "markdown",
      "source": [
        "12. **Write a for loop to print numbers from 1 to 100**"
      ],
      "metadata": {
        "id": "z0A5lMuWfylN"
      }
    },
    {
      "cell_type": "code",
      "source": [
        "for i in range(1, 101):\n",
        "  print(i)"
      ],
      "metadata": {
        "colab": {
          "base_uri": "https://localhost:8080/"
        },
        "id": "E2vMoX5qfrZF",
        "outputId": "16d3de58-0bc0-4004-d075-95b07b08d310"
      },
      "execution_count": 35,
      "outputs": [
        {
          "output_type": "stream",
          "name": "stdout",
          "text": [
            "1\n",
            "2\n",
            "3\n",
            "4\n",
            "5\n",
            "6\n",
            "7\n",
            "8\n",
            "9\n",
            "10\n",
            "11\n",
            "12\n",
            "13\n",
            "14\n",
            "15\n",
            "16\n",
            "17\n",
            "18\n",
            "19\n",
            "20\n",
            "21\n",
            "22\n",
            "23\n",
            "24\n",
            "25\n",
            "26\n",
            "27\n",
            "28\n",
            "29\n",
            "30\n",
            "31\n",
            "32\n",
            "33\n",
            "34\n",
            "35\n",
            "36\n",
            "37\n",
            "38\n",
            "39\n",
            "40\n",
            "41\n",
            "42\n",
            "43\n",
            "44\n",
            "45\n",
            "46\n",
            "47\n",
            "48\n",
            "49\n",
            "50\n",
            "51\n",
            "52\n",
            "53\n",
            "54\n",
            "55\n",
            "56\n",
            "57\n",
            "58\n",
            "59\n",
            "60\n",
            "61\n",
            "62\n",
            "63\n",
            "64\n",
            "65\n",
            "66\n",
            "67\n",
            "68\n",
            "69\n",
            "70\n",
            "71\n",
            "72\n",
            "73\n",
            "74\n",
            "75\n",
            "76\n",
            "77\n",
            "78\n",
            "79\n",
            "80\n",
            "81\n",
            "82\n",
            "83\n",
            "84\n",
            "85\n",
            "86\n",
            "87\n",
            "88\n",
            "89\n",
            "90\n",
            "91\n",
            "92\n",
            "93\n",
            "94\n",
            "95\n",
            "96\n",
            "97\n",
            "98\n",
            "99\n",
            "100\n"
          ]
        }
      ]
    },
    {
      "cell_type": "markdown",
      "source": [
        "13. **Write a Python program to find the sum of all even numbers between 1 and 50**"
      ],
      "metadata": {
        "id": "uqEfIfzAgDZ_"
      }
    },
    {
      "cell_type": "code",
      "source": [
        "sum_even_numbers = 0\n",
        "\n",
        "for i in range(1, 51):\n",
        "  if i % 2 == 0:\n",
        "    sum_even_numbers += i\n",
        "\n",
        "print(\"Sum of even numbers between 1 and 50:\", sum_even_numbers)"
      ],
      "metadata": {
        "colab": {
          "base_uri": "https://localhost:8080/"
        },
        "id": "PY8V7fwlgMJU",
        "outputId": "4bdddf93-8717-4ed3-80b9-7d5db11ce01e"
      },
      "execution_count": 36,
      "outputs": [
        {
          "output_type": "stream",
          "name": "stdout",
          "text": [
            "Sum of even numbers between 1 and 50: 650\n"
          ]
        }
      ]
    },
    {
      "cell_type": "markdown",
      "source": [
        "14. **Write a program to reverse a string using a while loop**"
      ],
      "metadata": {
        "id": "HjkvIUYagdMp"
      }
    },
    {
      "cell_type": "code",
      "source": [
        "count=5\n",
        "while count>0:\n",
        "  print(count)\n",
        "  count-=1"
      ],
      "metadata": {
        "colab": {
          "base_uri": "https://localhost:8080/"
        },
        "id": "HIcBjmEOgjQp",
        "outputId": "625f9167-fa50-471b-a05b-f67fc07030f5"
      },
      "execution_count": 37,
      "outputs": [
        {
          "output_type": "stream",
          "name": "stdout",
          "text": [
            "5\n",
            "4\n",
            "3\n",
            "2\n",
            "1\n"
          ]
        }
      ]
    },
    {
      "cell_type": "markdown",
      "source": [
        "15. **Write a Python program to calculate the factorial of a number provided by the user using a while loop.**\n"
      ],
      "metadata": {
        "id": "1GHOl3mThFm-"
      }
    },
    {
      "cell_type": "code",
      "source": [
        "num = int(input(\"Enter a non-negative integer: \"))\n",
        "\n",
        "if num < 0:\n",
        "  print(\"Factorial is not defined for negative numbers.\")\n",
        "else:\n",
        "  factorial = 1\n",
        "  i = 1\n",
        "  while i <= num:\n",
        "    factorial = factorial * i\n",
        "    i = i + 1\n",
        "  print(\"Factorial of\", num, \"is\", factorial)"
      ],
      "metadata": {
        "colab": {
          "base_uri": "https://localhost:8080/"
        },
        "id": "fyKtXPqIhQFe",
        "outputId": "ed16c4c2-7a28-4c67-a644-992d8c4fefa4"
      },
      "execution_count": 38,
      "outputs": [
        {
          "output_type": "stream",
          "name": "stdout",
          "text": [
            "Enter a non-negative integer: 5\n",
            "Factorial of 5 is 120\n"
          ]
        }
      ]
    }
  ]
}